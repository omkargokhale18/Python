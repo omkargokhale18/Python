{
 "cells": [
  {
   "cell_type": "markdown",
   "metadata": {},
   "source": [
    "# <center>MSIS 2802 - Data Science Analysis with Python</center>"
   ]
  },
  {
   "cell_type": "markdown",
   "metadata": {},
   "source": [
    "## <center>Team - Omkar Gokhale & Mohit Kudalkar</center>"
   ]
  },
  {
   "cell_type": "markdown",
   "metadata": {},
   "source": [
    "# About Data"
   ]
  },
  {
   "cell_type": "markdown",
   "metadata": {},
   "source": [
    "The flight delays have been very common to us. We wanted to analyze patterns in the flight data set as we all could relate to it easily. The terms are easy to understand, and most important, we found authentic data for our analysis.\n",
    "<br><br>\n",
    "Our data about flighs is taken from US Department of Transportation's Bureau of Transportation Statistics website(https://www.bts.gov/). We have kept limited data for only 6 months. (Jan 2016 - June 2016 in US)\n",
    "<br><br>\n",
    "We explored the data set to know some commonly known patterns about flights and the delays. It's obvious that most of the delays in US are due to weather. So we got the data for daily weather at top 10/busiest airports in the US for 6 months. \n",
    "<br><br> AND we were lucky enough to find it. Weather Underground has all the historical weather related information about a particular airport location.(https://www.wunderground.com/) <br><br> We could join the flights data set with weather data on the basis of date and source and destination city. <br> There were some challenges with joining the data sets that we will uncover during the rest of the notebook!\n",
    "\n",
    "<br>This was certainly an exciting experience working with large data sets and finding interesting patterns that we couldn't have derived by ourselves.<br> <h1><b>Let's Begin</b></h1>"
   ]
  },
  {
   "cell_type": "markdown",
   "metadata": {},
   "source": [
    "<b>Flight-</b><br>\n",
    "MONTH - Month of travel<br>\n",
    "DAY_OF_MONTH - Day of the month (1-31) <br>\n",
    "DAY_OF_WEEK - Day of the week (1-7)<br>\n",
    "FL_DATE - Flight Date<br>\n",
    "AIRLINE_ID - Airline identifier<br>\n",
    "CARRIER - Carrier Name<br>\n",
    "FL_NUM - Flight Number<br>\n",
    "ORIGIN_AIRPORT_ID - Airport identifier<br>\n",
    "ORIGIN - Source Airport Code\n",
    "ORIGIN_CITY_NAME - Source Aiport City (City, StateCode)<br>\n",
    "ORIGIN_STATE_ABR - Source Airport State Code<br>\n",
    "ORIGIN_STATE_NM - Source Airport State Name<br>\n",
    "DEST_AIRPORT_ID - Destination Airport identifier<br>\n",
    "DEST - Destination Airport Code\n",
    "DEST_CITY_NAME - Destination city name (City, Statecode)<br>\n",
    "DEST_STATE_ABR - Destination state code<br>\n",
    "DEST_STATE_NM - Destination state name<br>\n",
    "DEP_TIME - Departure time <br>\n",
    "DEP_DELAY - Departure delay (min)from source (contains negative delay for flights departing earlier than scheduled)<br>\n",
    "DEP_DELAY_NEW - Departure delay from source with delay=0 for flights departing early<br>\n",
    "ARR_TIME - Arrival time<br>\n",
    "ARR_DELAY - Arrival delay (total) (contains negative delay for flights arriving earlier than scheduled)<br>\n",
    "ARR_DELAY_NEW - Arrival delay (contains delay=0 for flights arriving earlier than scheduled)<br>\n",
    "CANCELLED - Cancellation Flag (1 for cancelled, 0 for not cancelled)<br>\n",
    "CANCELLATION_CODE - Cancellation code (contains values A,B,C,D which correspond to a different reason)<br>\n",
    "DIVERTED - Diversion Flag (1 for diverted, 0 for not diverted)<br>\n",
    "AIR_TIME - Total Air time for the flight(in min)<br>\n",
    "DISTANCE - Distance - Source to Destination (in miles)<br>\n",
    "CARRIER_DELAY- Delay due to carrier (in min)<br>\n",
    "WEATHER_DELAY - Delay due to weather(in min)<br>\n",
    "NAS_DELAY - Delay due to National Airspace System(NAS) (in min)<br>\n",
    "SECURITY_DELAY - Delay due to security(in min)<br>\n",
    "LATE_AIRCRAFT_DELAY - Delay due to late aircraft (in min)<br>"
   ]
  },
  {
   "cell_type": "markdown",
   "metadata": {},
   "source": [
    "<b>Weather Data:</b><br>\n",
    "CITY - City Name\t<br>\n",
    "STATE - State Code<br>\n",
    "YEAR - Year<br>\n",
    "MONTH - MonthName<br>\n",
    "DAY_OF_MONTH - Day of the month (1-31)<br>\n",
    "TempAvg\t- Average temperature on that day at that location(F)<br>\n",
    "DewAvg -  Average Dew point (F)<br>\n",
    "HumAvg - Average Humidity Percentage (%)<br>\n",
    "SeaLevelAvg - Average sea level pressure (inches)<br>\n",
    "VisibilityAvg - Average Visibility (miles)<br>\n",
    "WindAvg - Average Wind Speed (mph) <br>\n",
    "Precip_Inches - Precipitation (inches)<br>\n",
    "\n"
   ]
  },
  {
   "cell_type": "markdown",
   "metadata": {},
   "source": [
    "<b>Importing the Libraries</b>"
   ]
  },
  {
   "cell_type": "code",
   "execution_count": 1,
   "metadata": {
    "collapsed": false
   },
   "outputs": [
    {
     "name": "stdout",
     "output_type": "stream",
     "text": [
      "Populating the interactive namespace from numpy and matplotlib\n"
     ]
    }
   ],
   "source": [
    "#print all the outputs in a cell\n",
    "from IPython.core.interactiveshell import InteractiveShell\n",
    "InteractiveShell.ast_node_interactivity = \"all\"\n",
    "\n",
    "import seaborn as sns\n",
    "import pandas as pd\n",
    "import numpy as np\n",
    "import xlrd\n",
    "%pylab inline\n",
    "\n",
    "import sklearn as sk\n",
    "import sklearn.tree as tree\n",
    "from IPython.display import Image  \n",
    "import pydotplus"
   ]
  },
  {
   "cell_type": "markdown",
   "metadata": {},
   "source": [
    "## Input Files for 6 months and Weather Data"
   ]
  },
  {
   "cell_type": "code",
   "execution_count": 2,
   "metadata": {
    "collapsed": false
   },
   "outputs": [
    {
     "name": "stderr",
     "output_type": "stream",
     "text": [
      "C:\\Users\\Omkar\\AppData\\Local\\Enthought\\Canopy\\User\\lib\\site-packages\\IPython\\core\\interactiveshell.py:2723: DtypeWarning: Columns (25) have mixed types. Specify dtype option on import or set low_memory=False.\n",
      "  interactivity=interactivity, compiler=compiler, result=result)\n"
     ]
    }
   ],
   "source": [
    "Jan  = pd.read_csv('January.csv')\n",
    "Feb  = pd.read_csv('February.csv')\n",
    "March  = pd.read_csv('March.csv')\n",
    "April  = pd.read_csv('April.csv')\n",
    "May  = pd.read_csv('May.csv')\n",
    "June  = pd.read_csv('June.csv')\n",
    "dfweather = pd.read_csv('weather.csv')\n",
    "CancellationReason  = pd.read_csv('L_CANCELLATION.csv')"
   ]
  },
  {
   "cell_type": "markdown",
   "metadata": {},
   "source": [
    "#### Replace unidentifiable characters and Data Type change"
   ]
  },
  {
   "cell_type": "code",
   "execution_count": 3,
   "metadata": {
    "collapsed": false
   },
   "outputs": [],
   "source": [
    "dfweather.replace('-',0,inplace=True)"
   ]
  },
  {
   "cell_type": "code",
   "execution_count": 4,
   "metadata": {
    "collapsed": true
   },
   "outputs": [],
   "source": [
    "dfweather = dfweather.apply(pd.to_numeric,errors='ignore')"
   ]
  },
  {
   "cell_type": "code",
   "execution_count": 5,
   "metadata": {
    "collapsed": false
   },
   "outputs": [],
   "source": [
    "dfweather['TempAvg'] = pd.to_numeric(dfweather.TempAvg)"
   ]
  },
  {
   "cell_type": "markdown",
   "metadata": {},
   "source": [
    "#### Merge Files to a combined dataframe for all 6 months"
   ]
  },
  {
   "cell_type": "code",
   "execution_count": 6,
   "metadata": {
    "collapsed": false
   },
   "outputs": [],
   "source": [
    "SixMonthsCombinedFlight =Jan.append(Feb).append(March).append(April).append(May).append(June)"
   ]
  },
  {
   "cell_type": "code",
   "execution_count": 7,
   "metadata": {
    "collapsed": false
   },
   "outputs": [
    {
     "data": {
      "text/html": [
       "<div>\n",
       "<table border=\"1\" class=\"dataframe\">\n",
       "  <thead>\n",
       "    <tr style=\"text-align: right;\">\n",
       "      <th></th>\n",
       "      <th>YEAR</th>\n",
       "      <th>MONTH</th>\n",
       "      <th>DAY_OF_MONTH</th>\n",
       "      <th>DAY_OF_WEEK</th>\n",
       "      <th>FL_DATE</th>\n",
       "      <th>AIRLINE_ID</th>\n",
       "      <th>CARRIER</th>\n",
       "      <th>FL_NUM</th>\n",
       "      <th>ORIGIN_AIRPORT_ID</th>\n",
       "      <th>ORIGIN</th>\n",
       "      <th>...</th>\n",
       "      <th>CANCELLATION_CODE</th>\n",
       "      <th>DIVERTED</th>\n",
       "      <th>AIR_TIME</th>\n",
       "      <th>DISTANCE</th>\n",
       "      <th>CARRIER_DELAY</th>\n",
       "      <th>WEATHER_DELAY</th>\n",
       "      <th>NAS_DELAY</th>\n",
       "      <th>SECURITY_DELAY</th>\n",
       "      <th>LATE_AIRCRAFT_DELAY</th>\n",
       "      <th>Unnamed: 34</th>\n",
       "    </tr>\n",
       "  </thead>\n",
       "  <tbody>\n",
       "    <tr>\n",
       "      <th>0</th>\n",
       "      <td>2016</td>\n",
       "      <td>1</td>\n",
       "      <td>1</td>\n",
       "      <td>5</td>\n",
       "      <td>2016-01-01</td>\n",
       "      <td>19790</td>\n",
       "      <td>DL</td>\n",
       "      <td>1248</td>\n",
       "      <td>11433</td>\n",
       "      <td>DTW</td>\n",
       "      <td>...</td>\n",
       "      <td>NaN</td>\n",
       "      <td>0.0</td>\n",
       "      <td>249.0</td>\n",
       "      <td>1979.0</td>\n",
       "      <td>NaN</td>\n",
       "      <td>NaN</td>\n",
       "      <td>NaN</td>\n",
       "      <td>NaN</td>\n",
       "      <td>NaN</td>\n",
       "      <td>NaN</td>\n",
       "    </tr>\n",
       "    <tr>\n",
       "      <th>1</th>\n",
       "      <td>2016</td>\n",
       "      <td>1</td>\n",
       "      <td>1</td>\n",
       "      <td>5</td>\n",
       "      <td>2016-01-01</td>\n",
       "      <td>19790</td>\n",
       "      <td>DL</td>\n",
       "      <td>1251</td>\n",
       "      <td>10397</td>\n",
       "      <td>ATL</td>\n",
       "      <td>...</td>\n",
       "      <td>NaN</td>\n",
       "      <td>0.0</td>\n",
       "      <td>92.0</td>\n",
       "      <td>640.0</td>\n",
       "      <td>NaN</td>\n",
       "      <td>NaN</td>\n",
       "      <td>NaN</td>\n",
       "      <td>NaN</td>\n",
       "      <td>NaN</td>\n",
       "      <td>NaN</td>\n",
       "    </tr>\n",
       "    <tr>\n",
       "      <th>2</th>\n",
       "      <td>2016</td>\n",
       "      <td>1</td>\n",
       "      <td>1</td>\n",
       "      <td>5</td>\n",
       "      <td>2016-01-01</td>\n",
       "      <td>19790</td>\n",
       "      <td>DL</td>\n",
       "      <td>1254</td>\n",
       "      <td>12892</td>\n",
       "      <td>LAX</td>\n",
       "      <td>...</td>\n",
       "      <td>NaN</td>\n",
       "      <td>0.0</td>\n",
       "      <td>207.0</td>\n",
       "      <td>1947.0</td>\n",
       "      <td>NaN</td>\n",
       "      <td>NaN</td>\n",
       "      <td>NaN</td>\n",
       "      <td>NaN</td>\n",
       "      <td>NaN</td>\n",
       "      <td>NaN</td>\n",
       "    </tr>\n",
       "    <tr>\n",
       "      <th>3</th>\n",
       "      <td>2016</td>\n",
       "      <td>1</td>\n",
       "      <td>1</td>\n",
       "      <td>5</td>\n",
       "      <td>2016-01-01</td>\n",
       "      <td>19790</td>\n",
       "      <td>DL</td>\n",
       "      <td>1255</td>\n",
       "      <td>14869</td>\n",
       "      <td>SLC</td>\n",
       "      <td>...</td>\n",
       "      <td>NaN</td>\n",
       "      <td>0.0</td>\n",
       "      <td>173.0</td>\n",
       "      <td>1590.0</td>\n",
       "      <td>NaN</td>\n",
       "      <td>NaN</td>\n",
       "      <td>NaN</td>\n",
       "      <td>NaN</td>\n",
       "      <td>NaN</td>\n",
       "      <td>NaN</td>\n",
       "    </tr>\n",
       "    <tr>\n",
       "      <th>4</th>\n",
       "      <td>2016</td>\n",
       "      <td>1</td>\n",
       "      <td>1</td>\n",
       "      <td>5</td>\n",
       "      <td>2016-01-01</td>\n",
       "      <td>19790</td>\n",
       "      <td>DL</td>\n",
       "      <td>1256</td>\n",
       "      <td>10849</td>\n",
       "      <td>BZN</td>\n",
       "      <td>...</td>\n",
       "      <td>NaN</td>\n",
       "      <td>0.0</td>\n",
       "      <td>121.0</td>\n",
       "      <td>874.0</td>\n",
       "      <td>72.0</td>\n",
       "      <td>0.0</td>\n",
       "      <td>52.0</td>\n",
       "      <td>0.0</td>\n",
       "      <td>0.0</td>\n",
       "      <td>NaN</td>\n",
       "    </tr>\n",
       "  </tbody>\n",
       "</table>\n",
       "<p>5 rows × 35 columns</p>\n",
       "</div>"
      ],
      "text/plain": [
       "   YEAR  MONTH  DAY_OF_MONTH  DAY_OF_WEEK     FL_DATE  AIRLINE_ID CARRIER  \\\n",
       "0  2016      1             1            5  2016-01-01       19790      DL   \n",
       "1  2016      1             1            5  2016-01-01       19790      DL   \n",
       "2  2016      1             1            5  2016-01-01       19790      DL   \n",
       "3  2016      1             1            5  2016-01-01       19790      DL   \n",
       "4  2016      1             1            5  2016-01-01       19790      DL   \n",
       "\n",
       "   FL_NUM  ORIGIN_AIRPORT_ID ORIGIN     ...      CANCELLATION_CODE DIVERTED  \\\n",
       "0    1248              11433    DTW     ...                    NaN      0.0   \n",
       "1    1251              10397    ATL     ...                    NaN      0.0   \n",
       "2    1254              12892    LAX     ...                    NaN      0.0   \n",
       "3    1255              14869    SLC     ...                    NaN      0.0   \n",
       "4    1256              10849    BZN     ...                    NaN      0.0   \n",
       "\n",
       "  AIR_TIME  DISTANCE CARRIER_DELAY WEATHER_DELAY NAS_DELAY SECURITY_DELAY  \\\n",
       "0    249.0    1979.0           NaN           NaN       NaN            NaN   \n",
       "1     92.0     640.0           NaN           NaN       NaN            NaN   \n",
       "2    207.0    1947.0           NaN           NaN       NaN            NaN   \n",
       "3    173.0    1590.0           NaN           NaN       NaN            NaN   \n",
       "4    121.0     874.0          72.0           0.0      52.0            0.0   \n",
       "\n",
       "   LATE_AIRCRAFT_DELAY  Unnamed: 34  \n",
       "0                  NaN          NaN  \n",
       "1                  NaN          NaN  \n",
       "2                  NaN          NaN  \n",
       "3                  NaN          NaN  \n",
       "4                  0.0          NaN  \n",
       "\n",
       "[5 rows x 35 columns]"
      ]
     },
     "execution_count": 7,
     "metadata": {},
     "output_type": "execute_result"
    }
   ],
   "source": [
    "SixMonthsCombinedFlight.head(5)"
   ]
  },
  {
   "cell_type": "markdown",
   "metadata": {},
   "source": [
    "# Data Cleaning"
   ]
  },
  {
   "cell_type": "markdown",
   "metadata": {},
   "source": [
    "#### Split the Origin and Destination City from (City, StateCode) format to two columns for City and State"
   ]
  },
  {
   "cell_type": "code",
   "execution_count": 8,
   "metadata": {
    "collapsed": false
   },
   "outputs": [],
   "source": [
    "SixMonthsCombinedFlight['ORIGIN_CITY_NAME']=SixMonthsCombinedFlight['ORIGIN_CITY_NAME'].str.split(',', expand=True)"
   ]
  },
  {
   "cell_type": "code",
   "execution_count": 9,
   "metadata": {
    "collapsed": false
   },
   "outputs": [],
   "source": [
    "SixMonthsCombinedFlight['DEST_CITY_NAME']=SixMonthsCombinedFlight['DEST_CITY_NAME'].str.split(',', expand=True)"
   ]
  },
  {
   "cell_type": "markdown",
   "metadata": {},
   "source": [
    "#### We want only the top 10 Airport Cities; So, Let's filter out flight data for top 10 cities"
   ]
  },
  {
   "cell_type": "code",
   "execution_count": 10,
   "metadata": {
    "collapsed": false
   },
   "outputs": [],
   "source": [
    "df12=SixMonthsCombinedFlight[SixMonthsCombinedFlight.ORIGIN_CITY_NAME.isin(['Atlanta','Charlotte','Chicago','Dallas','Denver','Las Vegas','Los Angeles','New York','Phoenix','San Francisco'])]\n",
    "df13=df12[df12.DEST_CITY_NAME.isin(['Atlanta','Charlotte','Chicago','Dallas','Denver','Las Vegas','Los Angeles','New York','Phoenix','San Francisco'])]"
   ]
  },
  {
   "cell_type": "markdown",
   "metadata": {},
   "source": [
    "#### Transform Month in Weather dataframe"
   ]
  },
  {
   "cell_type": "code",
   "execution_count": 11,
   "metadata": {
    "collapsed": false
   },
   "outputs": [],
   "source": [
    "dfweather['MONTH'] =dfweather.MONTH.replace({'Jan' : 1, 'Feb' : 2,'Mar' : 3,'Apr' : 4,'May' : 5,'Jun' : 6})"
   ]
  },
  {
   "cell_type": "markdown",
   "metadata": {},
   "source": [
    "#### We want to find out weather at both source and destination. So we will make a copy of weather data and join separately for Source city and Destination city"
   ]
  },
  {
   "cell_type": "code",
   "execution_count": 12,
   "metadata": {
    "collapsed": true
   },
   "outputs": [],
   "source": [
    "destinationtemp=dfweather.copy()"
   ]
  },
  {
   "cell_type": "markdown",
   "metadata": {},
   "source": [
    "#### Let's consider Source weather first. <br> Drop the duplicate STATE column and rename weather data columns as ORIGIN_XXXXXX"
   ]
  },
  {
   "cell_type": "code",
   "execution_count": 13,
   "metadata": {
    "collapsed": false
   },
   "outputs": [],
   "source": [
    "dfweather=dfweather.drop('STATE',axis=1)\n",
    "dfweather=dfweather.rename(columns = {'CITY':'ORIGIN_CITY_NAME','TempAvg':'ORIGIN_TempAvg','DewAvg':'ORIGIN_DewAvg','HumAvg':'ORIGIN_HumAvg','SeaLevelAvg':'ORIGIN_SeaLevelAvg','VisibilityAvg':'ORIGIN_VisibilityAvg','WindAvg':'ORIGIN_WindAvg','Precip_Inches':'ORIGIN_Precip_Inches','Events':'ORIGIN_Events'})\n",
    "df14 = pd.merge(df13, dfweather, how='left', on=['YEAR','MONTH','DAY_OF_MONTH','ORIGIN_CITY_NAME'])"
   ]
  },
  {
   "cell_type": "markdown",
   "metadata": {},
   "source": [
    "#### Let's consider Destination weather (Copy we made earlier)<br>Drop the duplicate STATE column and rename weather data columns to DEST_XXXXXX"
   ]
  },
  {
   "cell_type": "code",
   "execution_count": 14,
   "metadata": {
    "collapsed": true
   },
   "outputs": [],
   "source": [
    "destinationtemp=destinationtemp.drop('STATE',axis=1)\n",
    "destinationtemp=destinationtemp.rename(columns = {'CITY':'DEST_CITY_NAME','TempAvg':'DEST_TempAvg','DewAvg':'DEST_DewAvg','HumAvg':'DEST_HumAvg','SeaLevelAvg':'DEST_SeaLevelAvg','VisibilityAvg':'DEST_VisibilityAvg','WindAvg':'DEST_WindAvg','Precip_Inches':'DEST_Precip_Inches','Events':'DEST_Events'})\n",
    "df15 = pd.merge(df14, destinationtemp, how='left', on=['YEAR','MONTH','DAY_OF_MONTH','DEST_CITY_NAME'])"
   ]
  },
  {
   "cell_type": "markdown",
   "metadata": {},
   "source": [
    "#### Merge the data with lookup table of cancellation code to get the text cancellation reason/description"
   ]
  },
  {
   "cell_type": "code",
   "execution_count": 15,
   "metadata": {
    "collapsed": false
   },
   "outputs": [],
   "source": [
    "MergedMasterData = pd.merge(df15, CancellationReason, how='left', on=['CANCELLATION_CODE'])"
   ]
  },
  {
   "cell_type": "markdown",
   "metadata": {},
   "source": [
    "#### Drop un-necessary columns"
   ]
  },
  {
   "cell_type": "code",
   "execution_count": 16,
   "metadata": {
    "collapsed": false
   },
   "outputs": [],
   "source": [
    "MergedMasterData['CANCELLATION_DESCRIPTION']=MergedMasterData.DESCRIPTION\n",
    "MergedMasterData=MergedMasterData.drop(['Unnamed: 0_x','Unnamed: 0_y','DESCRIPTION','Unnamed: 34'],axis=1)"
   ]
  },
  {
   "cell_type": "markdown",
   "metadata": {},
   "source": [
    "# Final dataframe to work with"
   ]
  },
  {
   "cell_type": "code",
   "execution_count": 17,
   "metadata": {
    "collapsed": false
   },
   "outputs": [
    {
     "data": {
      "text/plain": [
       "Index([u'YEAR', u'MONTH', u'DAY_OF_MONTH', u'DAY_OF_WEEK', u'FL_DATE',\n",
       "       u'AIRLINE_ID', u'CARRIER', u'FL_NUM', u'ORIGIN_AIRPORT_ID', u'ORIGIN',\n",
       "       u'ORIGIN_CITY_NAME', u'ORIGIN_STATE_ABR', u'ORIGIN_STATE_NM',\n",
       "       u'DEST_AIRPORT_ID', u'DEST', u'DEST_CITY_NAME', u'DEST_STATE_ABR',\n",
       "       u'DEST_STATE_NM', u'DEP_TIME', u'DEP_DELAY', u'DEP_DELAY_NEW',\n",
       "       u'ARR_TIME', u'ARR_DELAY', u'ARR_DELAY_NEW', u'CANCELLED',\n",
       "       u'CANCELLATION_CODE', u'DIVERTED', u'AIR_TIME', u'DISTANCE',\n",
       "       u'CARRIER_DELAY', u'WEATHER_DELAY', u'NAS_DELAY', u'SECURITY_DELAY',\n",
       "       u'LATE_AIRCRAFT_DELAY', u'ORIGIN_TempAvg', u'ORIGIN_DewAvg',\n",
       "       u'ORIGIN_HumAvg', u'ORIGIN_SeaLevelAvg', u'ORIGIN_VisibilityAvg',\n",
       "       u'ORIGIN_WindAvg', u'ORIGIN_Precip_Inches', u'DEST_TempAvg',\n",
       "       u'DEST_DewAvg', u'DEST_HumAvg', u'DEST_SeaLevelAvg',\n",
       "       u'DEST_VisibilityAvg', u'DEST_WindAvg', u'DEST_Precip_Inches',\n",
       "       u'CANCELLATION_DESCRIPTION'],\n",
       "      dtype='object')"
      ]
     },
     "execution_count": 17,
     "metadata": {},
     "output_type": "execute_result"
    }
   ],
   "source": [
    "MergedMasterData.columns"
   ]
  },
  {
   "cell_type": "code",
   "execution_count": 18,
   "metadata": {
    "collapsed": false
   },
   "outputs": [
    {
     "data": {
      "text/html": [
       "<div>\n",
       "<table border=\"1\" class=\"dataframe\">\n",
       "  <thead>\n",
       "    <tr style=\"text-align: right;\">\n",
       "      <th></th>\n",
       "      <th>YEAR</th>\n",
       "      <th>MONTH</th>\n",
       "      <th>DAY_OF_MONTH</th>\n",
       "      <th>DAY_OF_WEEK</th>\n",
       "      <th>FL_DATE</th>\n",
       "      <th>AIRLINE_ID</th>\n",
       "      <th>CARRIER</th>\n",
       "      <th>FL_NUM</th>\n",
       "      <th>ORIGIN_AIRPORT_ID</th>\n",
       "      <th>ORIGIN</th>\n",
       "      <th>...</th>\n",
       "      <th>ORIGIN_WindAvg</th>\n",
       "      <th>ORIGIN_Precip_Inches</th>\n",
       "      <th>DEST_TempAvg</th>\n",
       "      <th>DEST_DewAvg</th>\n",
       "      <th>DEST_HumAvg</th>\n",
       "      <th>DEST_SeaLevelAvg</th>\n",
       "      <th>DEST_VisibilityAvg</th>\n",
       "      <th>DEST_WindAvg</th>\n",
       "      <th>DEST_Precip_Inches</th>\n",
       "      <th>CANCELLATION_DESCRIPTION</th>\n",
       "    </tr>\n",
       "  </thead>\n",
       "  <tbody>\n",
       "    <tr>\n",
       "      <th>0</th>\n",
       "      <td>2016</td>\n",
       "      <td>1</td>\n",
       "      <td>1</td>\n",
       "      <td>5</td>\n",
       "      <td>2016-01-01</td>\n",
       "      <td>19790</td>\n",
       "      <td>DL</td>\n",
       "      <td>1254</td>\n",
       "      <td>12892</td>\n",
       "      <td>LAX</td>\n",
       "      <td>...</td>\n",
       "      <td>3.0</td>\n",
       "      <td>0</td>\n",
       "      <td>43.0</td>\n",
       "      <td>32.0</td>\n",
       "      <td>66.0</td>\n",
       "      <td>30.22</td>\n",
       "      <td>10.0</td>\n",
       "      <td>10.0</td>\n",
       "      <td>0</td>\n",
       "      <td>NaN</td>\n",
       "    </tr>\n",
       "    <tr>\n",
       "      <th>1</th>\n",
       "      <td>2016</td>\n",
       "      <td>1</td>\n",
       "      <td>1</td>\n",
       "      <td>5</td>\n",
       "      <td>2016-01-01</td>\n",
       "      <td>19790</td>\n",
       "      <td>DL</td>\n",
       "      <td>1262</td>\n",
       "      <td>12892</td>\n",
       "      <td>LAX</td>\n",
       "      <td>...</td>\n",
       "      <td>3.0</td>\n",
       "      <td>0</td>\n",
       "      <td>38.0</td>\n",
       "      <td>23.0</td>\n",
       "      <td>52.0</td>\n",
       "      <td>30.03</td>\n",
       "      <td>10.0</td>\n",
       "      <td>8.0</td>\n",
       "      <td>0</td>\n",
       "      <td>NaN</td>\n",
       "    </tr>\n",
       "    <tr>\n",
       "      <th>2</th>\n",
       "      <td>2016</td>\n",
       "      <td>1</td>\n",
       "      <td>1</td>\n",
       "      <td>5</td>\n",
       "      <td>2016-01-01</td>\n",
       "      <td>19790</td>\n",
       "      <td>DL</td>\n",
       "      <td>1279</td>\n",
       "      <td>11259</td>\n",
       "      <td>DAL</td>\n",
       "      <td>...</td>\n",
       "      <td>9.0</td>\n",
       "      <td>0</td>\n",
       "      <td>43.0</td>\n",
       "      <td>32.0</td>\n",
       "      <td>66.0</td>\n",
       "      <td>30.22</td>\n",
       "      <td>10.0</td>\n",
       "      <td>10.0</td>\n",
       "      <td>0</td>\n",
       "      <td>NaN</td>\n",
       "    </tr>\n",
       "    <tr>\n",
       "      <th>3</th>\n",
       "      <td>2016</td>\n",
       "      <td>1</td>\n",
       "      <td>1</td>\n",
       "      <td>5</td>\n",
       "      <td>2016-01-01</td>\n",
       "      <td>19790</td>\n",
       "      <td>DL</td>\n",
       "      <td>1286</td>\n",
       "      <td>10397</td>\n",
       "      <td>ATL</td>\n",
       "      <td>...</td>\n",
       "      <td>10.0</td>\n",
       "      <td>0</td>\n",
       "      <td>38.0</td>\n",
       "      <td>23.0</td>\n",
       "      <td>52.0</td>\n",
       "      <td>30.03</td>\n",
       "      <td>10.0</td>\n",
       "      <td>8.0</td>\n",
       "      <td>0</td>\n",
       "      <td>NaN</td>\n",
       "    </tr>\n",
       "    <tr>\n",
       "      <th>4</th>\n",
       "      <td>2016</td>\n",
       "      <td>1</td>\n",
       "      <td>1</td>\n",
       "      <td>5</td>\n",
       "      <td>2016-01-01</td>\n",
       "      <td>19790</td>\n",
       "      <td>DL</td>\n",
       "      <td>1292</td>\n",
       "      <td>12953</td>\n",
       "      <td>LGA</td>\n",
       "      <td>...</td>\n",
       "      <td>8.0</td>\n",
       "      <td>0</td>\n",
       "      <td>21.0</td>\n",
       "      <td>1.0</td>\n",
       "      <td>51.0</td>\n",
       "      <td>30.50</td>\n",
       "      <td>10.0</td>\n",
       "      <td>7.0</td>\n",
       "      <td>0</td>\n",
       "      <td>NaN</td>\n",
       "    </tr>\n",
       "  </tbody>\n",
       "</table>\n",
       "<p>5 rows × 49 columns</p>\n",
       "</div>"
      ],
      "text/plain": [
       "   YEAR  MONTH  DAY_OF_MONTH  DAY_OF_WEEK     FL_DATE  AIRLINE_ID CARRIER  \\\n",
       "0  2016      1             1            5  2016-01-01       19790      DL   \n",
       "1  2016      1             1            5  2016-01-01       19790      DL   \n",
       "2  2016      1             1            5  2016-01-01       19790      DL   \n",
       "3  2016      1             1            5  2016-01-01       19790      DL   \n",
       "4  2016      1             1            5  2016-01-01       19790      DL   \n",
       "\n",
       "   FL_NUM  ORIGIN_AIRPORT_ID ORIGIN            ...            ORIGIN_WindAvg  \\\n",
       "0    1254              12892    LAX            ...                       3.0   \n",
       "1    1262              12892    LAX            ...                       3.0   \n",
       "2    1279              11259    DAL            ...                       9.0   \n",
       "3    1286              10397    ATL            ...                      10.0   \n",
       "4    1292              12953    LGA            ...                       8.0   \n",
       "\n",
       "  ORIGIN_Precip_Inches DEST_TempAvg  DEST_DewAvg DEST_HumAvg DEST_SeaLevelAvg  \\\n",
       "0                    0         43.0         32.0        66.0            30.22   \n",
       "1                    0         38.0         23.0        52.0            30.03   \n",
       "2                    0         43.0         32.0        66.0            30.22   \n",
       "3                    0         38.0         23.0        52.0            30.03   \n",
       "4                    0         21.0          1.0        51.0            30.50   \n",
       "\n",
       "  DEST_VisibilityAvg DEST_WindAvg  DEST_Precip_Inches  \\\n",
       "0               10.0         10.0                   0   \n",
       "1               10.0          8.0                   0   \n",
       "2               10.0         10.0                   0   \n",
       "3               10.0          8.0                   0   \n",
       "4               10.0          7.0                   0   \n",
       "\n",
       "   CANCELLATION_DESCRIPTION  \n",
       "0                       NaN  \n",
       "1                       NaN  \n",
       "2                       NaN  \n",
       "3                       NaN  \n",
       "4                       NaN  \n",
       "\n",
       "[5 rows x 49 columns]"
      ]
     },
     "execution_count": 18,
     "metadata": {},
     "output_type": "execute_result"
    }
   ],
   "source": [
    "MergedMasterData.head(5)"
   ]
  },
  {
   "cell_type": "markdown",
   "metadata": {},
   "source": [
    "# Insight 1: Classification for cancelled flights"
   ]
  },
  {
   "cell_type": "markdown",
   "metadata": {},
   "source": [
    "#### We know that a lot of flights get cancelled. Given the data set, we can see that a lot of flights have been cancelled. let's examine the behavioral patterns in the flight cancellations. \n",
    "\n",
    "### What are the circumstances when the flight is most likely to cancel? or in which circumstances, the flight are not canceled? Let's see.."
   ]
  },
  {
   "cell_type": "markdown",
   "metadata": {},
   "source": [
    "#### Make dummy variables for Cancellation reason and Carriers to be used in Classification"
   ]
  },
  {
   "cell_type": "code",
   "execution_count": 19,
   "metadata": {
    "collapsed": true
   },
   "outputs": [],
   "source": [
    "Classification= pd.get_dummies(data=MergedMasterData, columns=['CANCELLATION_DESCRIPTION','CARRIER'])"
   ]
  },
  {
   "cell_type": "code",
   "execution_count": 20,
   "metadata": {
    "collapsed": false
   },
   "outputs": [
    {
     "data": {
      "text/plain": [
       "Index([u'YEAR', u'MONTH', u'DAY_OF_MONTH', u'DAY_OF_WEEK', u'FL_DATE',\n",
       "       u'AIRLINE_ID', u'FL_NUM', u'ORIGIN_AIRPORT_ID', u'ORIGIN',\n",
       "       u'ORIGIN_CITY_NAME', u'ORIGIN_STATE_ABR', u'ORIGIN_STATE_NM',\n",
       "       u'DEST_AIRPORT_ID', u'DEST', u'DEST_CITY_NAME', u'DEST_STATE_ABR',\n",
       "       u'DEST_STATE_NM', u'DEP_TIME', u'DEP_DELAY', u'DEP_DELAY_NEW',\n",
       "       u'ARR_TIME', u'ARR_DELAY', u'ARR_DELAY_NEW', u'CANCELLED',\n",
       "       u'CANCELLATION_CODE', u'DIVERTED', u'AIR_TIME', u'DISTANCE',\n",
       "       u'CARRIER_DELAY', u'WEATHER_DELAY', u'NAS_DELAY', u'SECURITY_DELAY',\n",
       "       u'LATE_AIRCRAFT_DELAY', u'ORIGIN_TempAvg', u'ORIGIN_DewAvg',\n",
       "       u'ORIGIN_HumAvg', u'ORIGIN_SeaLevelAvg', u'ORIGIN_VisibilityAvg',\n",
       "       u'ORIGIN_WindAvg', u'ORIGIN_Precip_Inches', u'DEST_TempAvg',\n",
       "       u'DEST_DewAvg', u'DEST_HumAvg', u'DEST_SeaLevelAvg',\n",
       "       u'DEST_VisibilityAvg', u'DEST_WindAvg', u'DEST_Precip_Inches',\n",
       "       u'CANCELLATION_DESCRIPTION_Carrier',\n",
       "       u'CANCELLATION_DESCRIPTION_National Air System',\n",
       "       u'CANCELLATION_DESCRIPTION_Weather', u'CARRIER_AA', u'CARRIER_B6',\n",
       "       u'CARRIER_DL', u'CARRIER_EV', u'CARRIER_F9', u'CARRIER_NK',\n",
       "       u'CARRIER_OO', u'CARRIER_UA', u'CARRIER_VX', u'CARRIER_WN'],\n",
       "      dtype='object')"
      ]
     },
     "execution_count": 20,
     "metadata": {},
     "output_type": "execute_result"
    }
   ],
   "source": [
    "Classification.columns"
   ]
  },
  {
   "cell_type": "code",
   "execution_count": 21,
   "metadata": {
    "collapsed": false,
    "scrolled": false
   },
   "outputs": [
    {
     "data": {
      "text/plain": [
       "YEAR                                            False\n",
       "MONTH                                           False\n",
       "DAY_OF_MONTH                                    False\n",
       "DAY_OF_WEEK                                     False\n",
       "FL_DATE                                         False\n",
       "AIRLINE_ID                                      False\n",
       "FL_NUM                                          False\n",
       "ORIGIN_AIRPORT_ID                               False\n",
       "ORIGIN                                          False\n",
       "ORIGIN_CITY_NAME                                False\n",
       "ORIGIN_STATE_ABR                                False\n",
       "ORIGIN_STATE_NM                                 False\n",
       "DEST_AIRPORT_ID                                 False\n",
       "DEST                                            False\n",
       "DEST_CITY_NAME                                  False\n",
       "DEST_STATE_ABR                                  False\n",
       "DEST_STATE_NM                                   False\n",
       "DEP_TIME                                         True\n",
       "DEP_DELAY                                        True\n",
       "DEP_DELAY_NEW                                    True\n",
       "ARR_TIME                                         True\n",
       "ARR_DELAY                                        True\n",
       "ARR_DELAY_NEW                                    True\n",
       "CANCELLED                                       False\n",
       "CANCELLATION_CODE                                True\n",
       "DIVERTED                                        False\n",
       "AIR_TIME                                         True\n",
       "DISTANCE                                        False\n",
       "CARRIER_DELAY                                    True\n",
       "WEATHER_DELAY                                    True\n",
       "NAS_DELAY                                        True\n",
       "SECURITY_DELAY                                   True\n",
       "LATE_AIRCRAFT_DELAY                              True\n",
       "ORIGIN_TempAvg                                   True\n",
       "ORIGIN_DewAvg                                    True\n",
       "ORIGIN_HumAvg                                    True\n",
       "ORIGIN_SeaLevelAvg                               True\n",
       "ORIGIN_VisibilityAvg                             True\n",
       "ORIGIN_WindAvg                                   True\n",
       "ORIGIN_Precip_Inches                             True\n",
       "DEST_TempAvg                                     True\n",
       "DEST_DewAvg                                      True\n",
       "DEST_HumAvg                                      True\n",
       "DEST_SeaLevelAvg                                 True\n",
       "DEST_VisibilityAvg                               True\n",
       "DEST_WindAvg                                     True\n",
       "DEST_Precip_Inches                               True\n",
       "CANCELLATION_DESCRIPTION_Carrier                False\n",
       "CANCELLATION_DESCRIPTION_National Air System    False\n",
       "CANCELLATION_DESCRIPTION_Weather                False\n",
       "CARRIER_AA                                      False\n",
       "CARRIER_B6                                      False\n",
       "CARRIER_DL                                      False\n",
       "CARRIER_EV                                      False\n",
       "CARRIER_F9                                      False\n",
       "CARRIER_NK                                      False\n",
       "CARRIER_OO                                      False\n",
       "CARRIER_UA                                      False\n",
       "CARRIER_VX                                      False\n",
       "CARRIER_WN                                      False\n",
       "dtype: bool"
      ]
     },
     "execution_count": 21,
     "metadata": {},
     "output_type": "execute_result"
    }
   ],
   "source": [
    "#Check if any columns have nulls\n",
    "Classification.isnull().any()"
   ]
  },
  {
   "cell_type": "code",
   "execution_count": 22,
   "metadata": {
    "collapsed": true
   },
   "outputs": [],
   "source": [
    "dfClass = Classification[['AIR_TIME','DISTANCE','ORIGIN_TempAvg','ORIGIN_DewAvg','ORIGIN_HumAvg','ORIGIN_SeaLevelAvg','ORIGIN_VisibilityAvg','ORIGIN_WindAvg','DEST_TempAvg','DEST_DewAvg','DEST_HumAvg','DEST_SeaLevelAvg','DEST_VisibilityAvg','DEST_WindAvg','CARRIER_AA', 'CARRIER_B6','CARRIER_DL', 'CARRIER_EV', 'CARRIER_F9', 'CARRIER_NK','CARRIER_OO', 'CARRIER_UA', 'CARRIER_VX', 'CARRIER_WN','CANCELLED']]"
   ]
  },
  {
   "cell_type": "code",
   "execution_count": 23,
   "metadata": {
    "collapsed": true
   },
   "outputs": [],
   "source": [
    "dfClass = dfClass.apply(lambda x: x.fillna(x.median()),axis=0)"
   ]
  },
  {
   "cell_type": "markdown",
   "metadata": {},
   "source": [
    "#### Let's make X and Y to pass on to the model"
   ]
  },
  {
   "cell_type": "code",
   "execution_count": 24,
   "metadata": {
    "collapsed": false
   },
   "outputs": [],
   "source": [
    "X = dfClass[['AIR_TIME','DISTANCE','ORIGIN_TempAvg','ORIGIN_DewAvg','ORIGIN_HumAvg','ORIGIN_SeaLevelAvg','ORIGIN_VisibilityAvg','ORIGIN_WindAvg','DEST_TempAvg','DEST_DewAvg','DEST_HumAvg','DEST_SeaLevelAvg','DEST_VisibilityAvg','DEST_WindAvg','CARRIER_AA', 'CARRIER_B6','CARRIER_DL', 'CARRIER_EV', 'CARRIER_F9', 'CARRIER_NK','CARRIER_OO', 'CARRIER_UA', 'CARRIER_VX', 'CARRIER_WN']]"
   ]
  },
  {
   "cell_type": "code",
   "execution_count": 25,
   "metadata": {
    "collapsed": true
   },
   "outputs": [],
   "source": [
    "Y = dfClass.CANCELLED"
   ]
  },
  {
   "cell_type": "markdown",
   "metadata": {},
   "source": [
    "#### Let's run the decision tree classifier model"
   ]
  },
  {
   "cell_type": "code",
   "execution_count": 26,
   "metadata": {
    "collapsed": true
   },
   "outputs": [],
   "source": [
    "dt = tree.DecisionTreeClassifier(max_depth=3)"
   ]
  },
  {
   "cell_type": "code",
   "execution_count": 27,
   "metadata": {
    "collapsed": false
   },
   "outputs": [
    {
     "data": {
      "text/plain": [
       "DecisionTreeClassifier(class_weight=None, criterion='gini', max_depth=3,\n",
       "            max_features=None, max_leaf_nodes=None,\n",
       "            min_impurity_split=1e-07, min_samples_leaf=1,\n",
       "            min_samples_split=2, min_weight_fraction_leaf=0.0,\n",
       "            presort=False, random_state=None, splitter='best')"
      ]
     },
     "execution_count": 27,
     "metadata": {},
     "output_type": "execute_result"
    }
   ],
   "source": [
    "dt.fit(X,Y)"
   ]
  },
  {
   "cell_type": "code",
   "execution_count": 28,
   "metadata": {
    "collapsed": false
   },
   "outputs": [
    {
     "data": {
      "image/png": "[encoded data removed]",
      "text/plain": [
       "<IPython.core.display.Image object>"
      ]
     },
     "execution_count": 28,
     "metadata": {},
     "output_type": "execute_result"
    }
   ],
   "source": [
    "# This code will visualize a decision tree dt, trained with the attributes in X and the class labels in Y\n",
    "dt_feature_names = list(X.columns)\n",
    "dt_target_names = np.array(Y.unique(),dtype=np.string_) \n",
    "tree.export_graphviz(dt, out_file='tree.dot', \n",
    "    feature_names=dt_feature_names, class_names=dt_target_names,\n",
    "    filled=True)  \n",
    "graph = pydotplus.graph_from_dot_file('tree.dot')\n",
    "Image(graph.create_png())"
   ]
  },
  {
   "cell_type": "markdown",
   "metadata": {},
   "source": [
    "# Findings From Classification - "
   ]
  },
  {
   "cell_type": "markdown",
   "metadata": {},
   "source": [
    "###  If humidity at source city is less than 98.5 AND humidity at Destination city is more than 98.5 AND wind speed at destination is more than 14, the flight is most likely to be cancelled. <br><br>  If humidity at source city is more than 98.5 AND wind speed at source city is more than 14 AND air time is less than 115.5, then the flight tends to be cancelled. BUT if the airtime is more than 115.5, then the flight almost always is not cancelled."
   ]
  },
  {
   "cell_type": "code",
   "execution_count": 29,
   "metadata": {
    "collapsed": false
   },
   "outputs": [],
   "source": [
    "dfClass['ORIGIN_WindBin'] = pd.cut(dfClass['ORIGIN_WindAvg'],bins=[0,14,50])\n",
    "dfClass['ORIGIN_HumBin'] = pd.cut(dfClass['ORIGIN_HumAvg'],bins=[0,98.5,500])"
   ]
  },
  {
   "cell_type": "markdown",
   "metadata": {},
   "source": [
    "#### As the tree has depth of 3, validation of the finding is done using two graphs. "
   ]
  },
  {
   "cell_type": "code",
   "execution_count": 30,
   "metadata": {
    "collapsed": false
   },
   "outputs": [
    {
     "data": {
      "text/plain": [
       "<seaborn.axisgrid.FacetGrid at 0x9bd4828>"
      ]
     },
     "execution_count": 30,
     "metadata": {},
     "output_type": "execute_result"
    },
    {
     "data": {
      "image/png": "[encoded data removed]",
      "text/plain": [
       "<matplotlib.figure.Figure at 0x8edcaa90>"
      ]
     },
     "metadata": {},
     "output_type": "display_data"
    }
   ],
   "source": [
    "sns.factorplot(x='ORIGIN_HumBin',y='CANCELLED', hue='ORIGIN_WindBin',data=dfClass, aspect=2, kind='bar')"
   ]
  },
  {
   "cell_type": "code",
   "execution_count": 31,
   "metadata": {
    "collapsed": false
   },
   "outputs": [
    {
     "name": "stderr",
     "output_type": "stream",
     "text": [
      "C:\\Users\\Omkar\\AppData\\Local\\Enthought\\Canopy\\User\\lib\\site-packages\\ipykernel\\__main__.py:2: SettingWithCopyWarning: \n",
      "A value is trying to be set on a copy of a slice from a DataFrame.\n",
      "Try using .loc[row_indexer,col_indexer] = value instead\n",
      "\n",
      "See the caveats in the documentation: http://pandas.pydata.org/pandas-docs/stable/indexing.html#indexing-view-versus-copy\n",
      "  from ipykernel import kernelapp as app\n"
     ]
    }
   ],
   "source": [
    "dfairtime= dfClass[dfClass.ORIGIN_HumAvg >98.5]\n",
    "dfairtime['airtimebin'] = pd.cut(dfairtime['AIR_TIME'], bins=[0,115.5,50000]) "
   ]
  },
  {
   "cell_type": "code",
   "execution_count": 32,
   "metadata": {
    "collapsed": false
   },
   "outputs": [
    {
     "data": {
      "text/plain": [
       "<seaborn.axisgrid.FacetGrid at 0x982ee860>"
      ]
     },
     "execution_count": 32,
     "metadata": {},
     "output_type": "execute_result"
    },
    {
     "data": {
      "image/png": "[encoded data removed]",
      "text/plain": [
       "<matplotlib.figure.Figure at 0x982ee828>"
      ]
     },
     "metadata": {},
     "output_type": "display_data"
    }
   ],
   "source": [
    "sns.factorplot(x='ORIGIN_WindBin', y='CANCELLED', hue='airtimebin',data=dfairtime, aspect=2, kind='bar')"
   ]
  },
  {
   "cell_type": "markdown",
   "metadata": {},
   "source": [
    "# Insight 2: Clustering "
   ]
  },
  {
   "cell_type": "markdown",
   "metadata": {},
   "source": [
    "### How are the flights grouped? What are the most important parameters while grouping flights? Is there anything we can find through the clustering results? <br><br> Clustering gives us the grouping of the data set and we can determine the primary parameter(s) on which the cluster is formed. "
   ]
  },
  {
   "cell_type": "code",
   "execution_count": 33,
   "metadata": {
    "collapsed": true
   },
   "outputs": [],
   "source": [
    "dfClustering = Classification[['ARR_DELAY','AIR_TIME','DISTANCE','CANCELLED','ORIGIN_TempAvg','ORIGIN_DewAvg','ORIGIN_HumAvg','ORIGIN_SeaLevelAvg','ORIGIN_VisibilityAvg','ORIGIN_WindAvg','DEST_TempAvg','DEST_DewAvg','DEST_HumAvg','DEST_SeaLevelAvg','DEST_VisibilityAvg','DEST_WindAvg','CARRIER_AA', 'CARRIER_B6','CARRIER_DL', 'CARRIER_EV', 'CARRIER_F9', 'CARRIER_NK','CARRIER_OO', 'CARRIER_UA', 'CARRIER_VX', 'CARRIER_WN']]"
   ]
  },
  {
   "cell_type": "markdown",
   "metadata": {},
   "source": [
    "#### Filling up nulls"
   ]
  },
  {
   "cell_type": "code",
   "execution_count": 34,
   "metadata": {
    "collapsed": false
   },
   "outputs": [
    {
     "name": "stderr",
     "output_type": "stream",
     "text": [
      "C:\\Users\\Omkar\\AppData\\Local\\Enthought\\Canopy\\User\\lib\\site-packages\\ipykernel\\__main__.py:1: SettingWithCopyWarning: \n",
      "A value is trying to be set on a copy of a slice from a DataFrame.\n",
      "Try using .loc[row_indexer,col_indexer] = value instead\n",
      "\n",
      "See the caveats in the documentation: http://pandas.pydata.org/pandas-docs/stable/indexing.html#indexing-view-versus-copy\n",
      "  if __name__ == '__main__':\n"
     ]
    }
   ],
   "source": [
    "dfClustering['ARR_DELAY'] = dfClustering.ARR_DELAY.fillna(0)"
   ]
  },
  {
   "cell_type": "code",
   "execution_count": 35,
   "metadata": {
    "collapsed": true
   },
   "outputs": [],
   "source": [
    "dfClustering = dfClustering.apply(lambda x: x.fillna(x.median()),axis=0)"
   ]
  },
  {
   "cell_type": "markdown",
   "metadata": {},
   "source": [
    "#### We are using K-Means Clustering model"
   ]
  },
  {
   "cell_type": "code",
   "execution_count": 36,
   "metadata": {
    "collapsed": true
   },
   "outputs": [],
   "source": [
    "from sklearn.cluster import KMeans"
   ]
  },
  {
   "cell_type": "code",
   "execution_count": 37,
   "metadata": {
    "collapsed": false
   },
   "outputs": [
    {
     "data": {
      "text/plain": [
       "KMeans(algorithm='auto', copy_x=True, init='k-means++', max_iter=300,\n",
       "    n_clusters=2, n_init=10, n_jobs=1, precompute_distances='auto',\n",
       "    random_state=2, tol=0.0001, verbose=0)"
      ]
     },
     "execution_count": 37,
     "metadata": {},
     "output_type": "execute_result"
    }
   ],
   "source": [
    "clu = KMeans(n_clusters=2,random_state=2)\n",
    "clu.fit(dfClustering)"
   ]
  },
  {
   "cell_type": "code",
   "execution_count": 38,
   "metadata": {
    "collapsed": true
   },
   "outputs": [],
   "source": [
    "dfcluster = dfClustering.copy()"
   ]
  },
  {
   "cell_type": "code",
   "execution_count": 39,
   "metadata": {
    "collapsed": true
   },
   "outputs": [],
   "source": [
    "dfcluster['cluster'] = clu.labels_"
   ]
  },
  {
   "cell_type": "markdown",
   "metadata": {},
   "source": [
    "## Here are our two clusters:-"
   ]
  },
  {
   "cell_type": "code",
   "execution_count": 40,
   "metadata": {
    "collapsed": false
   },
   "outputs": [
    {
     "data": {
      "text/html": [
       "<div>\n",
       "<table border=\"1\" class=\"dataframe\">\n",
       "  <thead>\n",
       "    <tr style=\"text-align: right;\">\n",
       "      <th></th>\n",
       "      <th>ARR_DELAY</th>\n",
       "      <th>AIR_TIME</th>\n",
       "      <th>DISTANCE</th>\n",
       "      <th>CANCELLED</th>\n",
       "      <th>ORIGIN_TempAvg</th>\n",
       "      <th>ORIGIN_DewAvg</th>\n",
       "      <th>ORIGIN_HumAvg</th>\n",
       "      <th>ORIGIN_SeaLevelAvg</th>\n",
       "      <th>ORIGIN_VisibilityAvg</th>\n",
       "      <th>ORIGIN_WindAvg</th>\n",
       "      <th>...</th>\n",
       "      <th>CARRIER_AA</th>\n",
       "      <th>CARRIER_B6</th>\n",
       "      <th>CARRIER_DL</th>\n",
       "      <th>CARRIER_EV</th>\n",
       "      <th>CARRIER_F9</th>\n",
       "      <th>CARRIER_NK</th>\n",
       "      <th>CARRIER_OO</th>\n",
       "      <th>CARRIER_UA</th>\n",
       "      <th>CARRIER_VX</th>\n",
       "      <th>CARRIER_WN</th>\n",
       "    </tr>\n",
       "    <tr>\n",
       "      <th>cluster</th>\n",
       "      <th></th>\n",
       "      <th></th>\n",
       "      <th></th>\n",
       "      <th></th>\n",
       "      <th></th>\n",
       "      <th></th>\n",
       "      <th></th>\n",
       "      <th></th>\n",
       "      <th></th>\n",
       "      <th></th>\n",
       "      <th></th>\n",
       "      <th></th>\n",
       "      <th></th>\n",
       "      <th></th>\n",
       "      <th></th>\n",
       "      <th></th>\n",
       "      <th></th>\n",
       "      <th></th>\n",
       "      <th></th>\n",
       "      <th></th>\n",
       "      <th></th>\n",
       "    </tr>\n",
       "  </thead>\n",
       "  <tbody>\n",
       "    <tr>\n",
       "      <th>0</th>\n",
       "      <td>5.740774</td>\n",
       "      <td>88.572191</td>\n",
       "      <td>608.349939</td>\n",
       "      <td>0.015442</td>\n",
       "      <td>59.928737</td>\n",
       "      <td>39.371660</td>\n",
       "      <td>55.529804</td>\n",
       "      <td>29.950734</td>\n",
       "      <td>9.554216</td>\n",
       "      <td>6.263855</td>\n",
       "      <td>...</td>\n",
       "      <td>0.185511</td>\n",
       "      <td>0.015407</td>\n",
       "      <td>0.167302</td>\n",
       "      <td>0.004658</td>\n",
       "      <td>0.037314</td>\n",
       "      <td>0.027765</td>\n",
       "      <td>0.043657</td>\n",
       "      <td>0.162398</td>\n",
       "      <td>0.058461</td>\n",
       "      <td>0.297529</td>\n",
       "    </tr>\n",
       "    <tr>\n",
       "      <th>1</th>\n",
       "      <td>0.793874</td>\n",
       "      <td>240.232758</td>\n",
       "      <td>1912.269899</td>\n",
       "      <td>0.009290</td>\n",
       "      <td>60.601744</td>\n",
       "      <td>40.001838</td>\n",
       "      <td>55.655209</td>\n",
       "      <td>29.911674</td>\n",
       "      <td>9.496983</td>\n",
       "      <td>5.754166</td>\n",
       "      <td>...</td>\n",
       "      <td>0.310717</td>\n",
       "      <td>0.070597</td>\n",
       "      <td>0.205936</td>\n",
       "      <td>0.000000</td>\n",
       "      <td>0.024884</td>\n",
       "      <td>0.025474</td>\n",
       "      <td>0.004795</td>\n",
       "      <td>0.142881</td>\n",
       "      <td>0.077330</td>\n",
       "      <td>0.137387</td>\n",
       "    </tr>\n",
       "  </tbody>\n",
       "</table>\n",
       "<p>2 rows × 26 columns</p>\n",
       "</div>"
      ],
      "text/plain": [
       "         ARR_DELAY    AIR_TIME     DISTANCE  CANCELLED  ORIGIN_TempAvg  \\\n",
       "cluster                                                                  \n",
       "0         5.740774   88.572191   608.349939   0.015442       59.928737   \n",
       "1         0.793874  240.232758  1912.269899   0.009290       60.601744   \n",
       "\n",
       "         ORIGIN_DewAvg  ORIGIN_HumAvg  ORIGIN_SeaLevelAvg  \\\n",
       "cluster                                                     \n",
       "0            39.371660      55.529804           29.950734   \n",
       "1            40.001838      55.655209           29.911674   \n",
       "\n",
       "         ORIGIN_VisibilityAvg  ORIGIN_WindAvg     ...      CARRIER_AA  \\\n",
       "cluster                                           ...                   \n",
       "0                    9.554216        6.263855     ...        0.185511   \n",
       "1                    9.496983        5.754166     ...        0.310717   \n",
       "\n",
       "         CARRIER_B6  CARRIER_DL  CARRIER_EV  CARRIER_F9  CARRIER_NK  \\\n",
       "cluster                                                               \n",
       "0          0.015407    0.167302    0.004658    0.037314    0.027765   \n",
       "1          0.070597    0.205936    0.000000    0.024884    0.025474   \n",
       "\n",
       "         CARRIER_OO  CARRIER_UA  CARRIER_VX  CARRIER_WN  \n",
       "cluster                                                  \n",
       "0          0.043657    0.162398    0.058461    0.297529  \n",
       "1          0.004795    0.142881    0.077330    0.137387  \n",
       "\n",
       "[2 rows x 26 columns]"
      ]
     },
     "execution_count": 40,
     "metadata": {},
     "output_type": "execute_result"
    }
   ],
   "source": [
    "dfcluster.groupby('cluster').mean()"
   ]
  },
  {
   "cell_type": "markdown",
   "metadata": {
    "collapsed": true
   },
   "source": [
    "## Finding from Clustering"
   ]
  },
  {
   "cell_type": "markdown",
   "metadata": {},
   "source": [
    "### The short distance/duration flights have highest delays. Long distance/duration has less delays."
   ]
  },
  {
   "cell_type": "markdown",
   "metadata": {},
   "source": [
    "#### Validation:-"
   ]
  },
  {
   "cell_type": "code",
   "execution_count": 41,
   "metadata": {
    "collapsed": false,
    "scrolled": true
   },
   "outputs": [
    {
     "data": {
      "text/plain": [
       "<seaborn.axisgrid.FacetGrid at 0x60607fd0>"
      ]
     },
     "execution_count": 41,
     "metadata": {},
     "output_type": "execute_result"
    },
    {
     "data": {
      "image/png": "[encoded data removed]",
      "text/plain": [
       "<matplotlib.figure.Figure at 0x60607eb8>"
      ]
     },
     "metadata": {},
     "output_type": "display_data"
    }
   ],
   "source": [
    "dfcluster['DistanceBin'] = pd.cut(dfcluster['DISTANCE'],bins=[0,500,1000,1500,5000])\n",
    "sns.factorplot(x = 'DistanceBin', y='ARR_DELAY', data=dfcluster, kind='bar', aspect=2)"
   ]
  },
  {
   "cell_type": "markdown",
   "metadata": {},
   "source": [
    "# Insight 3: Regression for Calculating Delay"
   ]
  },
  {
   "cell_type": "markdown",
   "metadata": {},
   "source": [
    "## We saw that flights are cancelled or delayed... <br><br> How much delay? Let's figure out..!! <br><br> We are using decision tree regressor to find what situations contribute to what amount of delay."
   ]
  },
  {
   "cell_type": "markdown",
   "metadata": {},
   "source": [
    "#### We removed the DEP_DELAY column as it is very obvious that if a flight departs early, it is most likely to arrive early. <br> \n",
    "For Example, if a flight departs 20 min late, and if it arrives 23 min late, it is not interesting; it is obvious! So we removed the departure delay column from regression model. We wanted to examine the impact of each weather data column on the delay. So, we passed all weather columns to the model."
   ]
  },
  {
   "cell_type": "code",
   "execution_count": 42,
   "metadata": {
    "collapsed": true
   },
   "outputs": [],
   "source": [
    "DecisionTreeReg =MergedMasterData[['ARR_DELAY','ORIGIN_TempAvg','ORIGIN_DewAvg','ORIGIN_HumAvg','ORIGIN_SeaLevelAvg','ORIGIN_VisibilityAvg','ORIGIN_WindAvg','DEST_TempAvg','DEST_DewAvg','DEST_HumAvg','DEST_SeaLevelAvg','DEST_VisibilityAvg','DEST_WindAvg']]\n",
    "DecisionTreeReg=DecisionTreeReg.apply(lambda x: x.fillna(x.median()),axis=0)\n",
    "A = DecisionTreeReg.drop('ARR_DELAY',axis=1)\n",
    "B = DecisionTreeReg.ARR_DELAY"
   ]
  },
  {
   "cell_type": "code",
   "execution_count": 43,
   "metadata": {
    "collapsed": false
   },
   "outputs": [
    {
     "data": {
      "text/plain": [
       "DecisionTreeRegressor(criterion='mse', max_depth=2, max_features=None,\n",
       "           max_leaf_nodes=None, min_impurity_split=1e-07,\n",
       "           min_samples_leaf=1, min_samples_split=2,\n",
       "           min_weight_fraction_leaf=0.0, presort=False, random_state=None,\n",
       "           splitter='best')"
      ]
     },
     "execution_count": 43,
     "metadata": {},
     "output_type": "execute_result"
    },
    {
     "data": {
      "image/png": "[encoded data removed]",
      "text/plain": [
       "<IPython.core.display.Image object>"
      ]
     },
     "execution_count": 43,
     "metadata": {},
     "output_type": "execute_result"
    }
   ],
   "source": [
    "import sklearn.tree\n",
    "dt = sklearn.tree.DecisionTreeRegressor(max_depth=2)\n",
    "dt.fit(A,B)\n",
    "import sklearn.tree as tree\n",
    "from IPython.display import Image  \n",
    "import pydotplus\n",
    "\n",
    "dt_feature_names = list(A.columns)\n",
    "dt_target_names = np.array(Y.unique(),dtype=np.string_) \n",
    "tree.export_graphviz(dt, out_file='tree.dot', \n",
    "    feature_names=dt_feature_names, class_names=dt_target_names,\n",
    "    filled=True)  \n",
    "graph = pydotplus.graph_from_dot_file('tree.dot')\n",
    "Image(graph.create_png())"
   ]
  },
  {
   "cell_type": "markdown",
   "metadata": {},
   "source": [
    "## Finding from Regression"
   ]
  },
  {
   "cell_type": "markdown",
   "metadata": {},
   "source": [
    "### If SeaLevel Pressure at Source Airport City is more than 30.035, and If Visibility is less than or equal to 4.5 miles, the delay is high (22.8 min). <br><br>Whereas if Sea Level Pressure at Source Airpport City is more than 30.035, and visibility at Source Airport is more than 4.5, then the delay is negative. (Flight actually arrives early!!)"
   ]
  },
  {
   "cell_type": "markdown",
   "metadata": {},
   "source": [
    "#### Validity of the finding: Observe green line"
   ]
  },
  {
   "cell_type": "code",
   "execution_count": 44,
   "metadata": {
    "collapsed": false,
    "scrolled": true
   },
   "outputs": [
    {
     "data": {
      "text/plain": [
       "<seaborn.axisgrid.FacetGrid at 0x76422f60>"
      ]
     },
     "execution_count": 44,
     "metadata": {},
     "output_type": "execute_result"
    },
    {
     "data": {
      "image/png": "[encoded data removed]",
      "text/plain": [
       "<matplotlib.figure.Figure at 0x76422f28>"
      ]
     },
     "metadata": {},
     "output_type": "display_data"
    }
   ],
   "source": [
    "Insight3 =MergedMasterData.copy()\n",
    "Insight3['ORIGIN_SeaLevelAvgbin'] = pd.cut(Insight3['ORIGIN_SeaLevelAvg'],bins=[0,30.03,50])\n",
    "Insight3['ORIGIN_VisibilityAvgbin'] = pd.cut(Insight3['ORIGIN_VisibilityAvg'],bins=[0,4.5,100])\n",
    "sns.factorplot(x='ORIGIN_VisibilityAvgbin', y='ARR_DELAY',hue='ORIGIN_SeaLevelAvgbin',data=Insight3, aspect = 2)"
   ]
  },
  {
   "cell_type": "markdown",
   "metadata": {
    "collapsed": true
   },
   "source": [
    "# <center>Thank you!</center>"
   ]
  }
 ],
 "metadata": {
  "kernelspec": {
   "display_name": "Python 2",
   "language": "python",
   "name": "python2"
  },
  "language_info": {
   "codemirror_mode": {
    "name": "ipython",
    "version": 2
   },
   "file_extension": ".py",
   "mimetype": "text/x-python",
   "name": "python",
   "nbconvert_exporter": "python",
   "pygments_lexer": "ipython2",
   "version": "2.7.11"
  }
 },
 "nbformat": 4,
 "nbformat_minor": 2
}
